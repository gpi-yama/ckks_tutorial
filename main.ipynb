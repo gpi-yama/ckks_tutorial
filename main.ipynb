{
 "cells": [
  {
   "cell_type": "markdown",
   "metadata": {},
   "source": [
    "# FHE (Fully Homomorphic Encryption)\n",
    "整数環上のFHEを考えることで、FHEの外観を追ってみる。  \n",
    "\n",
    "まず、$m = {0, 1}$という1bitのメッセージを暗号化する\n",
    "\n",
    "$Z_p$ (mod p の整数環)上のオペレーションで隠されている必要がある。\n",
    "\n",
    "$r << p$ となるノイズを付与して、\n",
    "\n",
    "$$\n",
    "\n",
    "C(m) = m + 2r + qp\n",
    "\n",
    "$$\n",
    "\n",
    "として暗号化を定義する。  \n",
    "復号は、mod p と mod 2をとって\n",
    "\n",
    "$$\n",
    "\n",
    "D(C(m)) =  ((m+2r+pq) \\% p) \\%2 \\\\\n",
    "  = (m + 2r) \\% 2 \\\\\n",
    "  = m\n",
    "\n",
    "$$\n",
    "\n",
    "足し算は\n",
    "\n",
    "$$\n",
    "\n",
    "C(m_1) + C(m_2) = m_1 + m_2 + 2(r_1 + r_2) + p(q_1 + q_2)\n",
    "\n",
    "$$\n",
    "\n",
    "掛け算は\n",
    "\n",
    "$$\n",
    "\n",
    "C(m_1) C(m_2) = m_1 m_2 + 2(r_2m_1 + r_1m_2 + r_1r_2) + p(m_1q_2 + 2r_1 q_2 + q_1 m_2 + 2 q_1 r_2 + q_1q_2 )\n",
    "\n",
    "$$\n",
    "\n",
    "掛け算の場合、ノイズはより大きくなる  \n",
    "ノイズがない場合は攻撃者は二つの暗号文の最大公約数を求めるだけで攻撃ができてしま\n",
    "う。  \n",
    "\n",
    "\n",
    "## LWE (Learing with error)\n",
    "- $A$ : random uniform matrix  \n",
    "- $e$ : small integer vector error\n",
    "- $s$: secret vector\n",
    "- $b$: $s A + e$\n",
    "\n",
    "$b$から$s$を求めるのは、$A$が分かっていたとしても困難  \n",
    "\n",
    "## ノイズの増大\n",
    "ノイズは処理を繰り返すことで大きくなってしまう。  \n",
    "\n",
    "ex.)\n",
    "- $m = 0$\n",
    "- $r = 5$\n",
    "- $p = 29$ : secret key\n",
    "- $q = 68$\n",
    "\n",
    "mを暗号化すると、\n",
    "$$\n",
    "\n",
    "C_p(0) = 0 + 2 \\times 5 + 68 \\times 29\n",
    "= 1982\n",
    "\n",
    "$$\n",
    "\n",
    "続いて、復号を行うと\n",
    "$$\n",
    "Dec(C_p(0)) = (1982 \\% 29 )\\%2 = 10 \\% 2 = 0\n",
    "$$\n",
    "\n",
    "でmに等しくなる。  \n",
    "\n",
    "では、3回$C_p(0)$を足すとどうなるか、\n",
    "\n",
    "$$\n",
    "\n",
    "C_p(0) + C_p(0) + C_p(0) = 5946 \\\\\n",
    " = 0 + 2 \\times 15 + 204 \\times 29  \\\\\n",
    " = 1\n",
    "\n",
    "$$\n",
    "\n",
    "となり、mが1になってしまった。  \n",
    "これは $2r = 30$ が $p = 29$ よりも大きくなっていしまったことで、暗号文が機能しなくなってしまったためである。\n",
    "\n",
    "$\\rightarrow$ これに対処するのがBootstrap (難しいのでスキップ...)\n",
    "\n",
    "\n",
    "# Cheon-Kim-Kim-Song (CKKS) Scheme \n",
    "\n",
    "続いて、CKKSの説明へ移る。\n",
    "\n",
    "\n",
    "![view_of_ckks](./view_of_ckks.jpeg)\n",
    "\n",
    "CKKSでは、複素数のベクトルの計算が可能となる。  図のように、メッセージは平文の多項式にエンコードしてから、暗号化される。  \n",
    "\n",
    "CKKSでは、掛け算、足し算、そしてベクトルのローテーション(rotではないので注意, [1,2,3]を[2,3,1]とするずらすような処理)ができる。  \n",
    "\n",
    "\n",
    "# CKKS Encoding\n",
    "CKKSでは、整数多項式環を平文および暗号空間として用いる。しかし、実用上はベクトルが扱える方がよい。そこで、入力ベクトル$ z \\in \\mathcal{C}^{N/2} $ を多項式空間 $m(X) \\in \\mathcal{Z} / (X^N + 1) $ にエンコードする。  \n",
    "\n",
    "ここで、\n",
    "$N$をPolynominal degree modulusの次元数として定義する。(ただし、Nは2の累乗)  \n",
    "ここでm次の円分多項式(Cyclotomic Polynominal)を$\\Phi_M (X) = X^N + 1$として書く  \n",
    "\n",
    "平文空間は多項式環$\\mathcal{R} = \\mathcal{Z}(X) / (X^N + 1)$となる。  \n",
    " $\\xi_M$ を1のM乗根 $\\xi_M = e^{2i\\pi/M}$\n",
    "とする\n",
    "\n",
    "## Vanilla Encoding\n",
    "まず、シンプルな例として \n",
    "$z \\in \\mathcal{C}^N $  を 多項式$m(x) \\in \\mathcal{C}[X] / (X^N + 1)$ にエンコードすることを考える。  \n",
    "\n",
    "そのために、埋め込み(Canonical embedding) $\\sigma$ : $\\mathcal{C}[X] / (X^N + 1) \\rightarrow \\mathcal{C}^N$を考える。  \n",
    "\n",
    "多項式 $m(X)$ をベクトル $z$ にデコードするために、多項式を円分多項式 $\\Phi_M(X) = X^N + 1$ の根として評価を行う。この N個 の根は $\\xi, \\xi^3, ..., \\xi^{2N-1}$となる。  \n",
    "\n",
    "$$\n",
    "\n",
    "x^N + 1 = (x - \\xi)(x - \\xi^2) ... (x - \\xi^{2N-1})\n",
    "\n",
    "$$\n",
    "\n",
    "CRTパッキングになっている。連続する奇数同士が互いに素なので、多分上記のように分解できる\n",
    "\n",
    "なので、$m(X)$のデコードは  \n",
    "\n",
    "$$\n",
    "\n",
    "\\sigma (m) = (m(\\xi), m(\\xi^3), ..., m(\\xi^{2N - 1})) \\in \\mathcal{C}^N \\\\\n",
    "\n",
    "$$\n",
    "(それぞれの$\\xi^i$について多項式に代入していく。)\n",
    "\n",
    "ただし、$\\sigma$は同型写像とする。  \n",
    "これにより、あらゆるベクトルはユニークに対応する多項式にエンコードすることができる。\n",
    "\n",
    "\n",
    "トリッキーな部分としては、ベクトル $z \\in \\mathcal{C}^N$ を対応する多項式にエンコードする、つまり $\\sigma ^ {-1}$ を考える場合である。  \n",
    "\n",
    "$$\n",
    "\n",
    "m(X) = \\sum_{i=0}^{N-1} \\alpha_i X^i \\in \\mathcal{C}[X] / (X^N + 1)\n",
    "\n",
    "$$\n",
    "\n",
    "をベクトル $z \\in \\mathcal{C}^N$ が与えられた場合に、 $ \\sigma (m) = (m(\\xi), m(\\xi^3), ..., m(\\xi^{2N - 1})) = (z_1, ..., z_N) $ という条件下で考えるということである。\n",
    "\n",
    "最終的には\n",
    "\n",
    "$$\n",
    "\n",
    "\\sum_{j=0}^{N-1} \\alpha_j(\\xi^{2i - 1})^j = z_i, i=1, .., N\n",
    "\n",
    "$$\n",
    "\n",
    "となる。これは線形関数として見られる:\n",
    "\n",
    "$A\\alpha = z$、Aは $(\\xi^{2i-1})_{i=1,...,N}$ についてのVandermonde matrix、$\\alpha$はploynomilal coefficientsのベクトル、$z$はエンコード対象のベクトルとなる。  \n",
    "\n",
    "ゆえに、$\\alpha = A^{-1}z$、\n",
    "\n",
    "$$\n",
    "\\sigma^{-1}(z) = \\sum_{i=0}^{N-1}\\alpha_iX^i \\in \\mathcal{C}[X]/(X^N+1)\n",
    "$$\n",
    "\n",
    "## Example\n",
    "$M=8, N=M/2=4, \\Phi_M(X) = X^4 + 1, \\omega=e^{\\frac{2i\\pi}{8}} = e^{\\frac{i\\pi}{4}}$とする。  \n",
    "ゴールはベクトル$[1, 2, 3, 4]$と$[-1, -2, -3, -4]$をエンコード、デコード、多項式上で足し算掛け算してデコードすることである。  \n",
    "\n",
    "8次の円分多項式なので、1の8乗根を考えればいい。\n",
    "\n",
    "$$\n",
    "\\xi_M = \\omega = e^\\frac{i\\pi}{4}\n",
    "$$\n",
    "となるものである。\n",
    "\n",
    "以上により $\\sigma$と$\\sigma^{-1}$が定義できるので、実装してみよう。\n",
    "\n",
    "\n",
    "\n",
    "```\n",
    "\n",
    "```\n",
    "\n",
    "\n"
   ]
  },
  {
   "cell_type": "code",
   "execution_count": 1,
   "metadata": {},
   "outputs": [],
   "source": [
    "import numpy as np\n",
    "\n",
    "# パラメータの設定\n",
    "M = 8\n",
    "N = M//2\n",
    "\n",
    "# \\xiを設定する。\n",
    "xi = np.exp(2 * np.pi * 1j / M)"
   ]
  },
  {
   "cell_type": "code",
   "execution_count": 2,
   "metadata": {},
   "outputs": [
    {
     "data": {
      "text/plain": [
       "(0.7071067811865476+0.7071067811865475j)"
      ]
     },
     "execution_count": 2,
     "metadata": {},
     "output_type": "execute_result"
    }
   ],
   "source": [
    "xi"
   ]
  },
  {
   "cell_type": "code",
   "execution_count": 3,
   "metadata": {},
   "outputs": [],
   "source": [
    "from numpy.polynomial import Polynomial\n",
    "# Encoderを定義する\n",
    "\n",
    "class CKKSEncoder:\n",
    "    \"\"\"Complex vector を 多項式にエンコードする関数\"\"\"\n",
    "\n",
    "    def __init__(self, M: int):\n",
    "        \"\"\"エンコーダの初期化\"\"\"\n",
    "        self.xi = np.exp(2 * np.pi * 1j / M)\n",
    "        self.M = M\n",
    "        self.N = M // 2\n",
    "\n",
    "    @staticmethod\n",
    "    def vandermonde(xi: np.complex128, M: int):\n",
    "        \"\"\"m乗根からVandermode matrixの計算 \n",
    "        \n",
    "        [\n",
    "            [xi, xi^2, xi^3, ..., xi^N],\n",
    "            [xi^3, x_i^(3*2), x_i^(3*3), ..., x_i^(3*N)],\n",
    "            ...,\n",
    "            [xi^N, x_i^(N*2), x_i^(N*3), ..., x_i^(N*N)]\n",
    "        ]\n",
    "\n",
    "        \"\"\"\n",
    "        N = M // 2\n",
    "        matrix = []\n",
    "\n",
    "        # それぞれのmatrixの列を生成する\n",
    "        for i in range(N):\n",
    "            # それぞれの列で異なる根を使う\n",
    "            root = xi ** (2 * i + 1)\n",
    "            row = []\n",
    "\n",
    "            # それぞれの累乗を入れていく\n",
    "            for j in range(N):\n",
    "                row.append(root ** j)\n",
    "            matrix.append(row)\n",
    "\n",
    "        return matrix\n",
    "\n",
    "    def sigma_inverse(self, b: np.array) -> Polynomial:\n",
    "        \"\"\"ベクトルbをM乗根の多項式に埋め込む\n",
    "        \"\"\"\n",
    "        A = CKKSEncoder.vandermonde(self.xi, M)\n",
    "\n",
    "        # A * bが多項式の係数になる\n",
    "        coeffs = np.linalg.solve(A, b)\n",
    "\n",
    "        p = Polynomial(coeffs)\n",
    "        return p\n",
    "\n",
    "    def sigma(self, p: Polynomial) -> np.array:\n",
    "        \"\"\"M乗根へ適用することで、多項式をデコードする\"\"\"\n",
    "\n",
    "        outputs = []\n",
    "        N = self.M // 2\n",
    "\n",
    "        # シンプルに根の多項式に適用する\n",
    "        for i in range(N):\n",
    "            root = self.xi ** (2 * i + 1)\n",
    "            output = p(root)\n",
    "            outputs.append(output)\n",
    "        return np.array(outputs)"
   ]
  },
  {
   "cell_type": "code",
   "execution_count": 4,
   "metadata": {},
   "outputs": [
    {
     "data": {
      "text/plain": [
       "array([1, 2, 3, 4])"
      ]
     },
     "execution_count": 4,
     "metadata": {},
     "output_type": "execute_result"
    }
   ],
   "source": [
    "encoder = CKKSEncoder(M)\n",
    "b = np.array([1,2,3,4])\n",
    "b"
   ]
  },
  {
   "cell_type": "code",
   "execution_count": 5,
   "metadata": {},
   "outputs": [
    {
     "data": {
      "text/latex": [
       "$x \\mapsto \\text{(2.5+5.551115123125783e-16j)} + (\\text{(-2.2204460492503136e-16+0.7071067811865479j)})\\,x + (\\text{(-4.024558464266194e-16+0.5000000000000002j)})\\,x^{2} + (\\text{(-8.949275782238479e-16+0.7071067811865474j)})\\,x^{3}$"
      ],
      "text/plain": [
       "Polynomial([ 2.50000000e+00+5.55111512e-16j, -2.22044605e-16+7.07106781e-01j,\n",
       "       -4.02455846e-16+5.00000000e-01j, -8.94927578e-16+7.07106781e-01j], domain=[-1,  1], window=[-1,  1])"
      ]
     },
     "execution_count": 5,
     "metadata": {},
     "output_type": "execute_result"
    }
   ],
   "source": [
    "p = encoder.sigma_inverse(b)\n",
    "p"
   ]
  },
  {
   "cell_type": "code",
   "execution_count": 6,
   "metadata": {},
   "outputs": [],
   "source": [
    "b_reconstructed = encoder.sigma(p)"
   ]
  },
  {
   "cell_type": "code",
   "execution_count": 7,
   "metadata": {},
   "outputs": [
    {
     "data": {
      "text/plain": [
       "array([1.+0.j, 2.+0.j, 3.+0.j, 4.+0.j])"
      ]
     },
     "execution_count": 7,
     "metadata": {},
     "output_type": "execute_result"
    }
   ],
   "source": [
    "b_reconstructed"
   ]
  },
  {
   "cell_type": "code",
   "execution_count": 8,
   "metadata": {},
   "outputs": [
    {
     "data": {
      "text/plain": [
       "2.220446049250313e-16"
      ]
     },
     "execution_count": 8,
     "metadata": {},
     "output_type": "execute_result"
    }
   ],
   "source": [
    "np.linalg.norm(b_reconstructed - b)\n"
   ]
  },
  {
   "cell_type": "code",
   "execution_count": 9,
   "metadata": {},
   "outputs": [
    {
     "data": {
      "text/plain": [
       "[[(1+0j),\n",
       "  (0.7071067811865476+0.7071067811865475j),\n",
       "  (2.220446049250313e-16+1j),\n",
       "  (-0.7071067811865474+0.7071067811865477j)],\n",
       " [(1+0j),\n",
       "  (-0.7071067811865474+0.7071067811865477j),\n",
       "  (-4.440892098500626e-16-1j),\n",
       "  (0.707106781186548+0.707106781186547j)],\n",
       " [(1+0j),\n",
       "  (-0.7071067811865479-0.7071067811865471j),\n",
       "  (1.1102230246251565e-15+1j),\n",
       "  (0.7071067811865464-0.7071067811865487j)],\n",
       " [(1+0j),\n",
       "  (0.707106781186547-0.707106781186548j),\n",
       "  (-1.3877787807814457e-15-1j),\n",
       "  (-0.707106781186549-0.707106781186546j)]]"
      ]
     },
     "execution_count": 9,
     "metadata": {},
     "output_type": "execute_result"
    }
   ],
   "source": [
    "encoder.vandermonde(encoder.xi, M)"
   ]
  },
  {
   "cell_type": "code",
   "execution_count": 10,
   "metadata": {},
   "outputs": [],
   "source": [
    "m1 = np.array([1, 2, 3, 4])\n",
    "m2 = np.array([1, -2, 3, -4])\n",
    "\n",
    "p1 = encoder.sigma_inverse(m1)\n",
    "p2 = encoder.sigma_inverse(m2)\n",
    "\n",
    "p_add = p1 + p2"
   ]
  },
  {
   "cell_type": "code",
   "execution_count": 11,
   "metadata": {},
   "outputs": [
    {
     "data": {
      "text/latex": [
       "$x \\mapsto \\text{(2.0000000000000004+2.220446049250313e-16j)} + (\\text{(-0.7071067811865474+0.7071067811865469j)})\\,x + (\\text{(1.942890293094023e-15-1.9999999999999998j)})\\,x^{2} + (\\text{(0.7071067811865467+0.7071067811865492j)})\\,x^{3}$"
      ],
      "text/plain": [
       "Polynomial([ 2.00000000e+00+2.22044605e-16j, -7.07106781e-01+7.07106781e-01j,\n",
       "        1.94289029e-15-2.00000000e+00j,  7.07106781e-01+7.07106781e-01j], domain=[-1.,  1.], window=[-1.,  1.])"
      ]
     },
     "execution_count": 11,
     "metadata": {},
     "output_type": "execute_result"
    }
   ],
   "source": [
    "p_add"
   ]
  },
  {
   "cell_type": "code",
   "execution_count": 12,
   "metadata": {},
   "outputs": [
    {
     "data": {
      "text/plain": [
       "array([ 2.0000000e+00-1.34692639e-17j, -4.4408921e-16+4.44089210e-16j,\n",
       "        6.0000000e+00-2.22044605e-16j,  8.8817842e-16+1.11022302e-16j])"
      ]
     },
     "execution_count": 12,
     "metadata": {},
     "output_type": "execute_result"
    }
   ],
   "source": [
    "encoder.sigma(p_add)\n"
   ]
  },
  {
   "cell_type": "code",
   "execution_count": 13,
   "metadata": {},
   "outputs": [
    {
     "data": {
      "text/latex": [
       "$x \\mapsto \\text{1.0}\\color{LightGray}{ + \\text{0.0}\\,x}\\color{LightGray}{ + \\text{0.0}\\,x^{2}}\\color{LightGray}{ + \\text{0.0}\\,x^{3}} + \\text{1.0}\\,x^{4}$"
      ],
      "text/plain": [
       "Polynomial([1., 0., 0., 0., 1.], domain=[-1,  1], window=[-1,  1])"
      ]
     },
     "execution_count": 13,
     "metadata": {},
     "output_type": "execute_result"
    }
   ],
   "source": [
    "poly_modulo = Polynomial([1, 0, 0, 0, 1])\n",
    "poly_modulo\n"
   ]
  },
  {
   "cell_type": "code",
   "execution_count": 14,
   "metadata": {},
   "outputs": [],
   "source": [
    "p_mult = p1 * p2 % poly_modulo\n"
   ]
  },
  {
   "cell_type": "code",
   "execution_count": 15,
   "metadata": {},
   "outputs": [
    {
     "data": {
      "text/plain": [
       "array([  1.-1.18676466e-15j,  -4.-2.98586242e-16j,   9.+1.25572599e-15j,\n",
       "       -16.-9.40241504e-15j])"
      ]
     },
     "execution_count": 15,
     "metadata": {},
     "output_type": "execute_result"
    }
   ],
   "source": [
    "encoder.sigma(p_mult)\n"
   ]
  },
  {
   "cell_type": "code",
   "execution_count": null,
   "metadata": {},
   "outputs": [],
   "source": []
  }
 ],
 "metadata": {
  "kernelspec": {
   "display_name": "Python 3.8.5 ('base')",
   "language": "python",
   "name": "python3"
  },
  "language_info": {
   "codemirror_mode": {
    "name": "ipython",
    "version": 3
   },
   "file_extension": ".py",
   "mimetype": "text/x-python",
   "name": "python",
   "nbconvert_exporter": "python",
   "pygments_lexer": "ipython3",
   "version": "3.8.5"
  },
  "orig_nbformat": 4,
  "vscode": {
   "interpreter": {
    "hash": "d357602433781de055905f93a4b234d04753c5ef861485eb5867a4114bc63577"
   }
  }
 },
 "nbformat": 4,
 "nbformat_minor": 2
}
