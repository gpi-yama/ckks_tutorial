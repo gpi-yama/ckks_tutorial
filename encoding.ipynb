{
 "cells": [
  {
   "cell_type": "markdown",
   "metadata": {},
   "source": [
    "# CKKS Encoding\n",
    "## 概要\n",
    "前回は\n",
    "\n",
    "$$\n",
    "\\sigma: z \\in \\mathbb{C}^{N} \\rightarrow m(X) \\in \\mathbb{C}[X] / (X^N + 1) \n",
    "$$\n",
    "\n",
    "というエンコードを考えていたが、行いたいのは、\n",
    "\n",
    "$$\n",
    "\\sigma: z \\in \\mathbb{C}^{N/2} \\rightarrow m(X) \\in \\mathbb{Z}[X] / (X^N + 1) \n",
    "$$\n",
    "\n",
    "というエンコードである。\n",
    "\n",
    "今回は上記のCKKSに使われるエンコードについて説明する\n"
   ]
  },
  {
   "cell_type": "markdown",
   "metadata": {},
   "source": [
    "# 複素係数と整数係数の差を埋める\n",
    "$\\mathbb{C}^N$ は必ずしも整数係数にエンコードされるわけではない。\n",
    "この問題を解決するために、cannonical embedding $\\sigma$ について考える。\n",
    "\n",
    "$ \\mathcal{R} $ 上の多項式は整数係数であるが、複素数の根で考える必要がある。ここで、複素数の根の半分はもう半分の共役となっているはずである。  \n",
    "\n",
    "$$\n",
    "\\sigma(\\mathcal{R}) \\subseteq \\mathbb{H} \\\\\n",
    "\\mathbb{H} =  \\lbrace (z_j)_{j \\in Z^*_M} : z_{−j} = \\overline{z_j} , \\forall j \\in Z^∗_M \\rbrace \\subseteq \\mathbb{C}^N \n",
    "$$\n",
    "\n",
    "\n",
    "例えば、8次円分多項式 $\\Phi_8(X) = \\prod_{gcd(8, i)=1} (x - \\omega^i)$ は以下のようになる ($\\omega$は1の原始8乗根)\n",
    "\n",
    "![image](cyclotomic.jpeg)"
   ]
  },
  {
   "cell_type": "markdown",
   "metadata": {},
   "source": [
    "8次円分多項式は、$\\Phi_8(X) = (x-\\omega^1) (x - \\omega^3) (x - \\omega^5) (x-\\omega^7)$ という形になる。この根は上図のように、$\\omega^1$ と $\\overline{\\omega^7}$, $\\omega^3$ と $\\overline{\\omega^5}$ で互いに共役となっていることがわかる。  \n",
    "\n",
    "このことから、整数係数に落とすには、共役の片方だけ考えてあげればよいことがわかる。\n",
    "\n",
    "一般的には、 $X^N+1$ の根で実数の多項式を考えるため、任意の多項式において\n",
    "\n",
    "$$\n",
    "m(X) \\in \\mathbb{R}, \\\\\n",
    "m(\\xi^j) = m(\\overline{\\xi_{-j}})\n",
    "$$\n",
    "\n",
    "が得られる。\n",
    "\n",
    "これより、任意の $\\sigma(\\mathcal{R})$ の要素は、NではなくN/2の次元となる。このことから、N/2の次元の複素数ベクトルをckksにおいてエンコードするためには、もう半分の共役となる根に複製して拡張する必要がある。 "
   ]
  },
  {
   "cell_type": "markdown",
   "metadata": {},
   "source": [
    " $\\mathbb{H}$ の要素をとり、$\\mathbb{C}^{N/2}$ に射影する処理を CKKS では $\\pi$ と表す。\n",
    "\n",
    "以上により $z \\in \\mathbb{C}^{N/2}$ を $\\pi^{-1}$ により拡張し、$\\pi^{-1}(z) \\in \\mathbb{H}$ を得ることができる。"
   ]
  },
  {
   "cell_type": "code",
   "execution_count": 10,
   "metadata": {},
   "outputs": [],
   "source": [
    "import numpy as np\n",
    "\n",
    "M = 8\n",
    "\n",
    "def pi(z: np.array) -> np.array:\n",
    "    \"\"\"Projects a vector of H into C^{N/2}.\"\"\"\n",
    "\n",
    "    N = M // 4\n",
    "    return z[:N]\n",
    "\n",
    "def pi_inverse(z: np.array) -> np.array:\n",
    "    \"\"\"Expands a vector of C^{N/2} by expanding it with its\n",
    "    complex conjugate.\"\"\"\n",
    "\n",
    "    z_conjugate = z[::-1]\n",
    "    z_conjugate = [np.conjugate(x) for x in z_conjugate]\n",
    "    return np.concatenate([z, z_conjugate])\n"
   ]
  },
  {
   "cell_type": "code",
   "execution_count": 14,
   "metadata": {},
   "outputs": [
    {
     "data": {
      "text/plain": [
       "array([1.+3.j, 2.+4.j, 2.-4.j, 1.-3.j])"
      ]
     },
     "execution_count": 14,
     "metadata": {},
     "output_type": "execute_result"
    }
   ],
   "source": [
    "z_in_H = pi_inverse(np.array([1 + 3j, 2+4j]))\n",
    "z_in_H\n"
   ]
  },
  {
   "cell_type": "code",
   "execution_count": 15,
   "metadata": {},
   "outputs": [
    {
     "data": {
      "text/plain": [
       "array([1.+3.j, 2.+4.j])"
      ]
     },
     "execution_count": 15,
     "metadata": {},
     "output_type": "execute_result"
    }
   ],
   "source": [
    "pi(z_in_H)"
   ]
  },
  {
   "cell_type": "markdown",
   "metadata": {},
   "source": [
    "## Coordinate-wise randomized rounding"
   ]
  },
  {
   "cell_type": "markdown",
   "metadata": {},
   "source": [
    "問題点は、$\\mathbb{H}$ (ただし、$\\sigma(\\mathcal{R}) \\subseteq \\mathbb{H} = z \\in \\mathcal{C}^N : z_j = \\overline{z_{-j}}$) の要素が必ずしも $\\sigma(\\mathcal{R})$ に入るとは限らないため、\n",
    "\n",
    "$$\n",
    "\\sigma : \\mathcal{R} = \\mathbb{Z}[X]/(X^N + 1) \\rightarrow \\sigma(\\mathcal{R}) \\subseteq \\mathbb{H}\n",
    "$$\n",
    "\n",
    "を直接使用することができないことである。  \n",
    "$\\sigma$ は同型写像であるが、 $\\mathcal{R}$ から $\\sigma(\\mathcal{R})$ の写像であり、 $\\mathbb{H}$ への写像ではない。  \n",
    "$\\mathcal{R}$ が可算であることから、その同型写像である $\\sigma(\\mathcal{R})$ は可算である。しかし、$\\mathbb{H}$ は $\\mathbb{C}^{N/2}$ の同型であり、不可算であることが分かる。このことからも上記のことが分かる。  "
   ]
  },
  {
   "cell_type": "markdown",
   "metadata": {},
   "source": [
    "\n",
    "先ほど、 $\\pi$ を $\\mathbb{H}$ から $\\mathbb{C}^{N/2}$ への写像と定義したが、実際には $\\pi^{-1}(z)$ が $\\sigma(\\mathcal{R})$ 上への写像である必要がある。  \n",
    "このために、\"coodinate-wise randomized rounding\"(座標単位のランダム丸め)を用いる。  \n",
    "これにより、実数xは $\\lfloor x \\rfloor$ か $\\lfloor x \\rfloor + 1$ に確率的に近い方に丸め込む。  "
   ]
  },
  {
   "cell_type": "markdown",
   "metadata": {},
   "source": [
    "Randomized rounding: 基本的な考え方は、確率的方法を使用して、問題の緩和の最適な解決策を元の問題に対するほぼ最適な解決策に変換することです。(wikipedia)"
   ]
  },
  {
   "cell_type": "markdown",
   "metadata": {},
   "source": [
    "$\\mathcal{R}$ は 直行基底 $1, X, ..., X^{N-1}$ を持ち、 同型写像 $\\sigma(\\mathcal{R})$ も同様に、直行基底 $\\beta = (b_1, b_2, ..., b_N) = (\\sigma(1), \\sigma(X), ..., \\sigma(X^{N-1}))$ をもつ\n",
    "\n",
    "このことから、任意の $z \\in \\mathbb{H}$ において、単純に $\\beta$ に射影する\n",
    "\n",
    "$$\n",
    "z = \\Sigma_{i=1}^N z_i b_i, z_i = \\frac{<z, b_i>}{||b_i^2||} \\in \\mathbb{R}\n",
    "$$\n",
    "\n",
    "(正規直行基底ではないので規格化してからかけている)"
   ]
  },
  {
   "cell_type": "markdown",
   "metadata": {},
   "source": [
    "$<x, y>$ はエルミート積 $\\Sigma_{i=1}^N x_i \\overline{y_i}$ を表す。  \n",
    "このエルミート積は実数を出力する。なぜならば、$\\mathbb{H}$に適用しているためである。 $\\mathbb{H}$ と $\\mathbb{R}^N$ の間の写像は等長同型写像であることからも、 $\\mathbb{H}$での内積は実数を出力することが分かる  \n",
    "(?)実数の座標に射影してるから、複素数を考えないのか？"
   ]
  },
  {
   "cell_type": "markdown",
   "metadata": {},
   "source": [
    "これにより、 $z_i$ による座標が得られたので、 \"coordinate-wise random rounding\" によりランダムに近い整数に丸め込まれる。\n",
    "$(\\sigma(1), \\sigma(X), ..., \\sigma(X^{N-1}))$ を基底とする整数の座標上に多項式を得ることができたので、$\\sigma(\\mathbb{R})$に属することになる。"
   ]
  },
  {
   "cell_type": "code",
   "execution_count": 40,
   "metadata": {},
   "outputs": [],
   "source": [
    "xi = np.exp(2 * np.pi * 1j / M)\n",
    "\n",
    "# \"\"\"Creates the basis (sigma(1), sigma(X), ..., sigma(X** N-1)).\"\"\"\n",
    "sigma_R_basis = np.array(CKKSEncoder.vandermonde(xi, M)).T\n",
    "\n",
    "\n",
    "def compute_basis_coordinates(z):\n",
    "    \"\"\"Computes the coordinates of a vector with respect to the orthogonal lattice basis.\"\"\"\n",
    "    output = np.array([np.real(np.vdot(z, b) / np.vdot(b, b)) for b in sigma_R_basis])\n",
    "    return output\n",
    "\n",
    "def round_coordinates(coordinates):\n",
    "    \"\"\"Gives the integral rest.\"\"\"\n",
    "    coordinates = coordinates - np.floor(coordinates)\n",
    "    return coordinates\n",
    "\n",
    "def coordinate_wise_random_rounding(coordinates):\n",
    "    \"\"\"Rounds coordinates randonmly.\"\"\"\n",
    "    r = round_coordinates(coordinates)\n",
    "    f = np.array([np.random.choice([c, c-1], 1, p=[1-c, c]) for c in r]).reshape(-1)\n",
    "\n",
    "    rounded_coordinates = coordinates - f\n",
    "    rounded_coordinates = [int(coeff) for coeff in rounded_coordinates]\n",
    "    return rounded_coordinates\n",
    "\n",
    "def sigma_R_discretization(z):\n",
    "    \"\"\"Projects a vector on the lattice using coordinate wise random rounding.\"\"\"\n",
    "    coordinates = compute_basis_coordinates(z)\n",
    "\n",
    "    rounded_coordinates = coordinate_wise_random_rounding(coordinates)\n",
    "    y = np.matmul(sigma_R_basis.T, rounded_coordinates)\n",
    "    return y\n"
   ]
  },
  {
   "cell_type": "code",
   "execution_count": 32,
   "metadata": {},
   "outputs": [
    {
     "data": {
      "text/plain": [
       "array([[ 1.00000000e+00+0.j        ,  1.00000000e+00+0.j        ,\n",
       "         1.00000000e+00+0.j        ,  1.00000000e+00+0.j        ],\n",
       "       [ 7.07106781e-01+0.70710678j, -7.07106781e-01+0.70710678j,\n",
       "        -7.07106781e-01-0.70710678j,  7.07106781e-01-0.70710678j],\n",
       "       [ 2.22044605e-16+1.j        , -4.44089210e-16-1.j        ,\n",
       "         1.11022302e-15+1.j        , -1.38777878e-15-1.j        ],\n",
       "       [-7.07106781e-01+0.70710678j,  7.07106781e-01+0.70710678j,\n",
       "         7.07106781e-01-0.70710678j, -7.07106781e-01-0.70710678j]])"
      ]
     },
     "execution_count": 32,
     "metadata": {},
     "output_type": "execute_result"
    }
   ],
   "source": [
    "sigma_R_basis\n"
   ]
  },
  {
   "cell_type": "code",
   "execution_count": 41,
   "metadata": {},
   "outputs": [
    {
     "data": {
      "text/plain": [
       "array([ 2.075     ,  1.57331259, -1.25      ,  2.31577471])"
      ]
     },
     "execution_count": 41,
     "metadata": {},
     "output_type": "execute_result"
    }
   ],
   "source": [
    "z = np.array([1.2+3.j, 2.4+4.j, 2.8-4.j, 1.9])\n",
    "coordinates = compute_basis_coordinates(z)\n",
    "coordinates"
   ]
  },
  {
   "cell_type": "code",
   "execution_count": 36,
   "metadata": {},
   "outputs": [
    {
     "data": {
      "text/plain": [
       "array([ 2.,  2., -1.,  3.])"
      ]
     },
     "execution_count": 36,
     "metadata": {},
     "output_type": "execute_result"
    }
   ],
   "source": [
    "rounded_coordinates = coordinate_wise_random_rounding(coordinates)\n",
    "rounded_coordinates"
   ]
  },
  {
   "cell_type": "markdown",
   "metadata": {},
   "source": [
    "## 丸め誤差の対策\n",
    "なお、丸め込みは、大きな精度のロスが生じる可能性がある。そこで、 $\\Delta > 0$ をエンコード時にはかけ、デコード時に割ることで、 $1/\\Delta$ という精度を保つ。\n",
    "\n",
    "例えば、$x=1.4$を精度0.25で丸め込みたい場合は、$\\Delta = 4$を設定する。\n",
    "エンコードすると、\n",
    "\n",
    "$$\n",
    "\\lfloor x \\rfloor = \\lfloor 4 * 1.4 \\rfloor =  \\lfloor 5.6 \\rfloor = 6\n",
    "$$\n",
    "\n",
    "となり、デコード時に4で割ると、1.5となる"
   ]
  },
  {
   "cell_type": "markdown",
   "metadata": {},
   "source": [
    "## 全体の流れ\n",
    "1. $z \\in \\mathbb{C}^{N/2}$ から要素を受け取る\n",
    "2. $\\pi^{-1}(z) \\in \\mathbb{H}$ に拡張\n",
    "3. $\\Delta$ をかける\n",
    "4. $\\sigma(\\mathcal{R}) : \\lfloor \\Delta \\pi^{-1}(z) \\rceil_{\\sigma(\\mathbb{R})} \\in \\sigma(\\mathcal{R})$ に写像する\n",
    "5. $\\sigma : m(X) = \\sigma^{-1} (\\lfloor \\Delta \\pi^{-1}(z) \\rceil_{\\sigma(\\mathbb{R})} \\in \\sigma(\\mathcal{R}))$ エンコード \n",
    "\n",
    "\n",
    "$m(X)$ をデコードする際は、 $z = \\pi \\circ \\sigma(\\Delta^{-1} m(X)) $\n"
   ]
  },
  {
   "cell_type": "markdown",
   "metadata": {},
   "source": []
  },
  {
   "cell_type": "code",
   "execution_count": 2,
   "metadata": {},
   "outputs": [],
   "source": [
    "import numpy as np\n",
    "\n",
    "# パラメータの設定\n",
    "M = 8\n",
    "N = M//2\n",
    "\n",
    "# \\xiを設定する。\n",
    "xi = np.exp(2 * np.pi * 1j / M)"
   ]
  },
  {
   "cell_type": "code",
   "execution_count": 47,
   "metadata": {},
   "outputs": [],
   "source": [
    "from numpy.polynomial import Polynomial\n",
    "# Encoderを定義する\n",
    "\n",
    "scale = 4\n",
    "\n",
    "\n",
    "class CKKSEncoder:\n",
    "    \"\"\"Complex vector を 多項式にエンコードする関数\"\"\"\n",
    "\n",
    "    def __init__(self, M: int, scale: int):\n",
    "        \"\"\"エンコーダの初期化\"\"\"\n",
    "        self.xi = np.exp(2 * np.pi * 1j / M)\n",
    "        self.M = M\n",
    "        self.N = M // 2\n",
    "        self.create_sigma_R_basis()\n",
    "        self.scale = scale\n",
    "\n",
    "\n",
    "    @staticmethod\n",
    "    def vandermonde(xi: np.complex128, M: int):\n",
    "        \"\"\"m乗根からVandermode matrixの計算 \n",
    "        \n",
    "        [\n",
    "            [xi, xi^2, xi^3, ..., xi^N],\n",
    "            [xi^3, x_i^(3*2), x_i^(3*3), ..., x_i^(3*N)],\n",
    "            ...,\n",
    "            [xi^N, x_i^(N*2), x_i^(N*3), ..., x_i^(N*N)]\n",
    "        ]\n",
    "\n",
    "        \"\"\"\n",
    "        N = M // 2\n",
    "        matrix = []\n",
    "\n",
    "        # それぞれのmatrixの列を生成する\n",
    "        for i in range(N):\n",
    "            # それぞれの列で異なる根を使う\n",
    "            root = xi ** (2 * i + 1)\n",
    "            row = []\n",
    "\n",
    "            # それぞれの累乗を入れていく\n",
    "            for j in range(N):\n",
    "                row.append(root ** j)\n",
    "            matrix.append(row)\n",
    "\n",
    "        return matrix\n",
    "\n",
    "    def sigma_inverse(self, b: np.array) -> Polynomial:\n",
    "        \"\"\"ベクトルbをM乗根の多項式に埋め込む\n",
    "        \"\"\"\n",
    "        A = CKKSEncoder.vandermonde(self.xi, M)\n",
    "\n",
    "        # A * bが多項式の係数になる\n",
    "        coeffs = np.linalg.solve(A, b)\n",
    "\n",
    "        p = Polynomial(coeffs)\n",
    "        return p\n",
    "\n",
    "    def sigma(self, p: Polynomial) -> np.array:\n",
    "        \"\"\"M乗根へ適用することで、多項式をデコードする\"\"\"\n",
    "\n",
    "        outputs = []\n",
    "        N = self.M // 2\n",
    "\n",
    "        # シンプルに根の多項式に適用する\n",
    "        for i in range(N):\n",
    "            root = self.xi ** (2 * i + 1)\n",
    "            output = p(root)\n",
    "            outputs.append(output)\n",
    "        return np.array(outputs)\n",
    "\n",
    "    def pi(self, z: np.array) -> np.array:\n",
    "        \"\"\"Projects a vector of H into C^{N/2}.\"\"\"\n",
    "        \n",
    "        N = self.M // 4\n",
    "        return z[:N]\n",
    "\n",
    "    def pi_inverse(self, z: np.array) -> np.array:\n",
    "        \"\"\"Expands a vector of C^{N/2} by expanding it with its\n",
    "        complex conjugate.\"\"\"\n",
    "        \n",
    "        z_conjugate = z[::-1]\n",
    "        z_conjugate = [np.conjugate(x) for x in z_conjugate]\n",
    "        return np.concatenate([z, z_conjugate])\n",
    "\n",
    "    def create_sigma_R_basis(self):\n",
    "        \"\"\"Creates the basis (sigma(1), sigma(X), ..., sigma(X** N-1)).\"\"\"\n",
    "\n",
    "        self.sigma_R_basis = np.array(self.vandermonde(self.xi, self.M)).T\n",
    "    \n",
    "    def compute_basis_coordinates(self, z):\n",
    "        \"\"\"Computes the coordinates of a vector with respect to the orthogonal lattice basis.\"\"\"\n",
    "        output = np.array([np.real(np.vdot(z, b) / np.vdot(b,b)) for b in self.sigma_R_basis])\n",
    "        return output\n",
    "\n",
    "    def round_coordinates(self, coordinates):\n",
    "        \"\"\"Gives the integral rest.\"\"\"\n",
    "        coordinates = coordinates - np.floor(coordinates)\n",
    "        return coordinates\n",
    "\n",
    "    def coordinate_wise_random_rounding(self, coordinates):\n",
    "        \"\"\"Rounds coordinates randonmly.\"\"\"\n",
    "        r = self.round_coordinates(coordinates)\n",
    "        f = np.array([np.random.choice([c, c-1], 1, p=[1-c, c]) for c in r]).reshape(-1)\n",
    "        \n",
    "        rounded_coordinates = coordinates - f\n",
    "        rounded_coordinates = [int(coeff) for coeff in rounded_coordinates]\n",
    "        return rounded_coordinates\n",
    "\n",
    "    def sigma_R_discretization(self, z):\n",
    "        \"\"\"Projects a vector on the lattice using coordinate wise random rounding.\"\"\"\n",
    "        coordinates = self.compute_basis_coordinates(z)\n",
    "        \n",
    "        rounded_coordinates = self.coordinate_wise_random_rounding(coordinates)\n",
    "        y = np.matmul(self.sigma_R_basis.T, rounded_coordinates)\n",
    "        return y\n",
    "\n",
    "    def encode(self, z: np.array) -> Polynomial:\n",
    "        \"\"\"Encodes a vector by expanding it first to H,\n",
    "        scale it, project it on the lattice of sigma(R), and performs\n",
    "        sigma inverse.\n",
    "        \"\"\"\n",
    "        pi_z = self.pi_inverse(z)\n",
    "        scaled_pi_z = self.scale * pi_z\n",
    "        rounded_scale_pi_zi = self.sigma_R_discretization(scaled_pi_z)\n",
    "        p = self.sigma_inverse(rounded_scale_pi_zi)\n",
    "        \n",
    "        # We round it afterwards due to numerical imprecision\n",
    "        coef = np.round(np.real(p.coef)).astype(int)\n",
    "        p = Polynomial(coef)\n",
    "        return p\n",
    "\n",
    "    def decode(self, p: Polynomial) -> np.array:\n",
    "        \"\"\"Decodes a polynomial by removing the scale, \n",
    "        evaluating on the roots, and project it on C^(N/2)\"\"\"\n",
    "        rescaled_p = p / self.scale\n",
    "        z = self.sigma(rescaled_p)\n",
    "        pi_z = self.pi(z)\n",
    "        return pi_z"
   ]
  },
  {
   "cell_type": "code",
   "execution_count": 57,
   "metadata": {},
   "outputs": [],
   "source": [
    "scale = 32\n",
    "M = 8\n",
    "encoder = CKKSEncoder(M, scale)\n"
   ]
  },
  {
   "cell_type": "code",
   "execution_count": 58,
   "metadata": {},
   "outputs": [
    {
     "data": {
      "text/plain": [
       "array([3.+4.j, 2.-1.j])"
      ]
     },
     "execution_count": 58,
     "metadata": {},
     "output_type": "execute_result"
    }
   ],
   "source": [
    "z = np.array([3 + 4j, 2 - 1j])\n",
    "z"
   ]
  },
  {
   "cell_type": "code",
   "execution_count": 59,
   "metadata": {},
   "outputs": [
    {
     "data": {
      "text/latex": [
       "$x \\mapsto \\text{80.0} + \\text{45.0}\\,x + \\text{80.0}\\,x^{2} + \\text{22.0}\\,x^{3}$"
      ],
      "text/plain": [
       "Polynomial([80., 45., 80., 22.], domain=[-1,  1], window=[-1,  1])"
      ]
     },
     "execution_count": 59,
     "metadata": {},
     "output_type": "execute_result"
    }
   ],
   "source": [
    "p = encoder.encode(z)\n",
    "p"
   ]
  },
  {
   "cell_type": "code",
   "execution_count": 60,
   "metadata": {},
   "outputs": [
    {
     "data": {
      "text/plain": [
       "array([3.008233+3.98050482j, 1.991767-1.01949518j])"
      ]
     },
     "execution_count": 60,
     "metadata": {},
     "output_type": "execute_result"
    }
   ],
   "source": [
    "encoder.decode(p)"
   ]
  },
  {
   "cell_type": "code",
   "execution_count": null,
   "metadata": {},
   "outputs": [],
   "source": []
  },
  {
   "cell_type": "code",
   "execution_count": null,
   "metadata": {},
   "outputs": [],
   "source": []
  }
 ],
 "metadata": {
  "kernelspec": {
   "display_name": "Python 3.8.5 ('base')",
   "language": "python",
   "name": "python3"
  },
  "language_info": {
   "codemirror_mode": {
    "name": "ipython",
    "version": 3
   },
   "file_extension": ".py",
   "mimetype": "text/x-python",
   "name": "python",
   "nbconvert_exporter": "python",
   "pygments_lexer": "ipython3",
   "version": "3.8.5"
  },
  "orig_nbformat": 4,
  "vscode": {
   "interpreter": {
    "hash": "d357602433781de055905f93a4b234d04753c5ef861485eb5867a4114bc63577"
   }
  }
 },
 "nbformat": 4,
 "nbformat_minor": 2
}
